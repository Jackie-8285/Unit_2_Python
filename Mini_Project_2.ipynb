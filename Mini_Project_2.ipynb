{
  "nbformat": 4,
  "nbformat_minor": 0,
  "metadata": {
    "colab": {
      "name": "Mini Project 2.ipynb",
      "provenance": [],
      "collapsed_sections": [],
      "authorship_tag": "ABX9TyN6FeYMfX5UL8GenIGFYvBN",
      "include_colab_link": true
    },
    "kernelspec": {
      "name": "python3",
      "display_name": "Python 3"
    }
  },
  "cells": [
    {
      "cell_type": "markdown",
      "metadata": {
        "id": "view-in-github",
        "colab_type": "text"
      },
      "source": [
        "<a href=\"https://colab.research.google.com/github/Jackie-8285/Unit_2_Python/blob/main/Mini_Project_2.ipynb\" target=\"_parent\"><img src=\"https://colab.research.google.com/assets/colab-badge.svg\" alt=\"Open In Colab\"/></a>"
      ]
    },
    {
      "cell_type": "markdown",
      "metadata": {
        "id": "DYess9kXx-5p"
      },
      "source": [
        "**Environmental Set Up:** I imported the assigned NY times COVID 19 data set from Github for review."
      ]
    },
    {
      "cell_type": "code",
      "metadata": {
        "id": "kP_EK9y9ji87"
      },
      "source": [
        "import pandas as pd\r\n",
        "import numpy as np \r\n",
        "\r\n",
        "df = pd.read_csv('https://raw.githubusercontent.com/nytimes/covid-19-data/master/us-counties.csv')\r\n",
        "df"
      ],
      "execution_count": null,
      "outputs": []
    },
    {
      "cell_type": "markdown",
      "metadata": {
        "id": "SMS0TV5GNEBD"
      },
      "source": [
        "**Data Collection:** After importing the data, I used the groupby function to look up the max amount of COVID cases by state."
      ]
    },
    {
      "cell_type": "code",
      "metadata": {
        "id": "rMjzrZHt2thm"
      },
      "source": [
        "import pandas as pd\r\n",
        "import numpy as np \r\n",
        "df = pd.read_csv('https://raw.githubusercontent.com/nytimes/covid-19-data/master/us-counties.csv')\r\n",
        "#used the groupby function to look up COVID case and death sum by state for assessment.\r\n",
        "df.groupby(['state']).max()"
      ],
      "execution_count": null,
      "outputs": []
    },
    {
      "cell_type": "markdown",
      "metadata": {
        "id": "X-mfvn2Vp0wl"
      },
      "source": [
        "**Data Wrangling:** After reviewing states, I selected Bergen, New Jersey and started wrangling the data and then cross checking via three different functions in order to validate data accuracy.\r\n",
        " "
      ]
    },
    {
      "cell_type": "code",
      "metadata": {
        "id": "6odCGgvzzn4P"
      },
      "source": [
        "import pandas as pd\r\n",
        "import numpy as np \r\n",
        "df = pd.read_csv('https://raw.githubusercontent.com/nytimes/covid-19-data/master/us-counties.csv')\r\n",
        "\r\n",
        "#dropped fips as it wasn't needed\r\n",
        "drop_cols = ['fips']\r\n",
        "df.drop(drop_cols, inplace =True, axis =1)\r\n",
        "print (df)"
      ],
      "execution_count": null,
      "outputs": []
    },
    {
      "cell_type": "code",
      "metadata": {
        "id": "DplNtlIg3Z2T"
      },
      "source": [
        "#created a variable for Bergen \r\n",
        "state_df = df[(df['county']=='Bergen')]\r\n",
        "state_df"
      ],
      "execution_count": null,
      "outputs": []
    },
    {
      "cell_type": "code",
      "metadata": {
        "id": "0Cqd41_S3RhD"
      },
      "source": [
        "#grouped by New Jersey, Bergen county,date, and sum to assess data.\r\n",
        "state_df.groupby(['state','county','date']).sum()"
      ],
      "execution_count": null,
      "outputs": []
    },
    {
      "cell_type": "code",
      "metadata": {
        "id": "3r-UOD5e3MZl"
      },
      "source": [
        "#used the string function to double check data via a different method.\r\n",
        "state_df = df[(df['county']=='Bergen')]\r\n",
        "df[df['state'].str.contains('New Jersey')]"
      ],
      "execution_count": null,
      "outputs": []
    },
    {
      "cell_type": "code",
      "metadata": {
        "id": "WmQpi8AF1WkO"
      },
      "source": [
        "#also pulled up the data via the query function and the most recent data reflects.\r\n",
        "drop_cols = ['fips']\r\n",
        "df.query('county== \"Bergen\"').max()"
      ],
      "execution_count": null,
      "outputs": []
    },
    {
      "cell_type": "markdown",
      "metadata": {
        "id": "MJfVgb7yx64N"
      },
      "source": [
        "**Visual #1:** Bergen County Plot Graph"
      ]
    },
    {
      "cell_type": "code",
      "metadata": {
        "id": "LWyiLk0tZCxT"
      },
      "source": [
        "import numpy as np\r\n",
        "import pandas as pd\r\n",
        "df= pd.read_csv('https://raw.githubusercontent.com/nytimes/covid-19-data/master/us-counties.csv')\r\n",
        "drop_cols = ['fips']\r\n",
        "df.drop(drop_cols, inplace =True, axis =1)\r\n",
        "state_df = df[(df['county']=='Bergen')]\r\n",
        "\r\n",
        "state_df.plot()"
      ],
      "execution_count": null,
      "outputs": []
    },
    {
      "cell_type": "markdown",
      "metadata": {
        "id": "7KHngnOGpnqY"
      },
      "source": [
        "**Visual #2:** Bergen County Scatter Plot"
      ]
    },
    {
      "cell_type": "code",
      "metadata": {
        "id": "1GGW5YEqnY2K"
      },
      "source": [
        "import numpy as np\r\n",
        "import pandas as pd\r\n",
        "df= pd.read_csv('https://raw.githubusercontent.com/nytimes/covid-19-data/master/us-counties.csv')\r\n",
        "\r\n",
        "state_df = df[(df['county']=='Bergen')]\r\n",
        "state_df.plot(kind = 'scatter', x = 'cases', y = 'deaths')"
      ],
      "execution_count": null,
      "outputs": []
    },
    {
      "cell_type": "markdown",
      "metadata": {
        "id": "zM6grB847A_Z"
      },
      "source": [
        "**Comparative Analysis:** As of Jan 16, 2021, the data shows that Bergen county has a 4% death rate for its COVID population. While Passaic county has a 3.2% death rate for its COVID population. Data shows that Passaic's death ratio is very high in comparison, especially when you factor in that its almost half the population of Bergen county. Passaic county is more urbanized than Bergen county, is there a correlation to the higher death ratio? A deeper dive with more data would be required. "
      ]
    },
    {
      "cell_type": "markdown",
      "metadata": {
        "id": "kPyltHHyXAsS"
      },
      "source": [
        "**Comparative Bergen County Data**"
      ]
    },
    {
      "cell_type": "code",
      "metadata": {
        "id": "yIrcB-7fA6Zo"
      },
      "source": [
        "drop_cols = ['fips']\r\n",
        "df.query('county== \"Bergen\"').max()"
      ],
      "execution_count": null,
      "outputs": []
    },
    {
      "cell_type": "markdown",
      "metadata": {
        "id": "k5gfbtZNb4bn"
      },
      "source": [
        "**Comparative Visual #1:** The Bergen County plot graph shows the death rate has tapered off. "
      ]
    },
    {
      "cell_type": "code",
      "metadata": {
        "id": "aqKvFchwboJR"
      },
      "source": [
        "import numpy as np\r\n",
        "import pandas as pd\r\n",
        "df= pd.read_csv('https://raw.githubusercontent.com/nytimes/covid-19-data/master/us-counties.csv')\r\n",
        "state_df = df[(df['county']=='Bergen')]\r\n",
        "sns.barplot(x='deaths', y='cases',data =state_df)"
      ],
      "execution_count": null,
      "outputs": []
    },
    {
      "cell_type": "markdown",
      "metadata": {
        "id": "Es4TwifMXVfv"
      },
      "source": [
        "**Comparative Passaic County Data**"
      ]
    },
    {
      "cell_type": "code",
      "metadata": {
        "id": "WbTK6E6kA3kK"
      },
      "source": [
        "drop_cols = ['fips']\r\n",
        "df.query('county== \"Passaic\"').max()"
      ],
      "execution_count": null,
      "outputs": []
    },
    {
      "cell_type": "markdown",
      "metadata": {
        "id": "LMwmHwFCbOlG"
      },
      "source": [
        "**Comparative Visual #2:** The Passaic County plot graph below shows that the death rate has been consistent and is still active.\r\n",
        "\r\n",
        "\r\n"
      ]
    },
    {
      "cell_type": "code",
      "metadata": {
        "id": "-TEkLiOgbX-h"
      },
      "source": [
        "import numpy as np\r\n",
        "import pandas as pd\r\n",
        "df= pd.read_csv('https://raw.githubusercontent.com/nytimes/covid-19-data/master/us-counties.csv')\r\n",
        "state_df = df[(df['county']=='Passaic')]\r\n",
        "sns.barplot(x='deaths', y='cases',data =state_df)"
      ],
      "execution_count": null,
      "outputs": []
    }
  ]
}