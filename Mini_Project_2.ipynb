{
  "nbformat": 4,
  "nbformat_minor": 0,
  "metadata": {
    "colab": {
      "name": "Mini Project 2.ipynb",
      "provenance": [],
      "collapsed_sections": [],
      "authorship_tag": "ABX9TyM6AVcjAdhvDU5zgemj+I6W",
      "include_colab_link": true
    },
    "kernelspec": {
      "name": "python3",
      "display_name": "Python 3"
    }
  },
  "cells": [
    {
      "cell_type": "markdown",
      "metadata": {
        "id": "view-in-github",
        "colab_type": "text"
      },
      "source": [
        "<a href=\"https://colab.research.google.com/github/Jackie-8285/Unit_2_Python/blob/main/Mini_Project_2.ipynb\" target=\"_parent\"><img src=\"https://colab.research.google.com/assets/colab-badge.svg\" alt=\"Open In Colab\"/></a>"
      ]
    },
    {
      "cell_type": "markdown",
      "metadata": {
        "id": "DYess9kXx-5p"
      },
      "source": [
        "**Environmental Set Up:** I imported the assigned NY times COVID 19 data set from Github for review."
      ]
    },
    {
      "cell_type": "code",
      "metadata": {
        "colab": {
          "base_uri": "https://localhost:8080/",
          "height": 419
        },
        "id": "kP_EK9y9ji87",
        "outputId": "f3a5dd48-585e-4bab-d928-095d57b3c196"
      },
      "source": [
        "import pandas as pd\r\n",
        "import numpy as np \r\n",
        "\r\n",
        "df = pd.read_csv('https://raw.githubusercontent.com/nytimes/covid-19-data/master/us-counties.csv')\r\n",
        "df"
      ],
      "execution_count": 42,
      "outputs": [
        {
          "output_type": "execute_result",
          "data": {
            "text/html": [
              "<div>\n",
              "<style scoped>\n",
              "    .dataframe tbody tr th:only-of-type {\n",
              "        vertical-align: middle;\n",
              "    }\n",
              "\n",
              "    .dataframe tbody tr th {\n",
              "        vertical-align: top;\n",
              "    }\n",
              "\n",
              "    .dataframe thead th {\n",
              "        text-align: right;\n",
              "    }\n",
              "</style>\n",
              "<table border=\"1\" class=\"dataframe\">\n",
              "  <thead>\n",
              "    <tr style=\"text-align: right;\">\n",
              "      <th></th>\n",
              "      <th>date</th>\n",
              "      <th>county</th>\n",
              "      <th>state</th>\n",
              "      <th>fips</th>\n",
              "      <th>cases</th>\n",
              "      <th>deaths</th>\n",
              "    </tr>\n",
              "  </thead>\n",
              "  <tbody>\n",
              "    <tr>\n",
              "      <th>0</th>\n",
              "      <td>2020-01-21</td>\n",
              "      <td>Snohomish</td>\n",
              "      <td>Washington</td>\n",
              "      <td>53061.0</td>\n",
              "      <td>1</td>\n",
              "      <td>0.0</td>\n",
              "    </tr>\n",
              "    <tr>\n",
              "      <th>1</th>\n",
              "      <td>2020-01-22</td>\n",
              "      <td>Snohomish</td>\n",
              "      <td>Washington</td>\n",
              "      <td>53061.0</td>\n",
              "      <td>1</td>\n",
              "      <td>0.0</td>\n",
              "    </tr>\n",
              "    <tr>\n",
              "      <th>2</th>\n",
              "      <td>2020-01-23</td>\n",
              "      <td>Snohomish</td>\n",
              "      <td>Washington</td>\n",
              "      <td>53061.0</td>\n",
              "      <td>1</td>\n",
              "      <td>0.0</td>\n",
              "    </tr>\n",
              "    <tr>\n",
              "      <th>3</th>\n",
              "      <td>2020-01-24</td>\n",
              "      <td>Cook</td>\n",
              "      <td>Illinois</td>\n",
              "      <td>17031.0</td>\n",
              "      <td>1</td>\n",
              "      <td>0.0</td>\n",
              "    </tr>\n",
              "    <tr>\n",
              "      <th>4</th>\n",
              "      <td>2020-01-24</td>\n",
              "      <td>Snohomish</td>\n",
              "      <td>Washington</td>\n",
              "      <td>53061.0</td>\n",
              "      <td>1</td>\n",
              "      <td>0.0</td>\n",
              "    </tr>\n",
              "    <tr>\n",
              "      <th>...</th>\n",
              "      <td>...</td>\n",
              "      <td>...</td>\n",
              "      <td>...</td>\n",
              "      <td>...</td>\n",
              "      <td>...</td>\n",
              "      <td>...</td>\n",
              "    </tr>\n",
              "    <tr>\n",
              "      <th>933493</th>\n",
              "      <td>2021-01-15</td>\n",
              "      <td>Sweetwater</td>\n",
              "      <td>Wyoming</td>\n",
              "      <td>56037.0</td>\n",
              "      <td>3262</td>\n",
              "      <td>26.0</td>\n",
              "    </tr>\n",
              "    <tr>\n",
              "      <th>933494</th>\n",
              "      <td>2021-01-15</td>\n",
              "      <td>Teton</td>\n",
              "      <td>Wyoming</td>\n",
              "      <td>56039.0</td>\n",
              "      <td>2605</td>\n",
              "      <td>4.0</td>\n",
              "    </tr>\n",
              "    <tr>\n",
              "      <th>933495</th>\n",
              "      <td>2021-01-15</td>\n",
              "      <td>Uinta</td>\n",
              "      <td>Wyoming</td>\n",
              "      <td>56041.0</td>\n",
              "      <td>1806</td>\n",
              "      <td>9.0</td>\n",
              "    </tr>\n",
              "    <tr>\n",
              "      <th>933496</th>\n",
              "      <td>2021-01-15</td>\n",
              "      <td>Washakie</td>\n",
              "      <td>Wyoming</td>\n",
              "      <td>56043.0</td>\n",
              "      <td>839</td>\n",
              "      <td>23.0</td>\n",
              "    </tr>\n",
              "    <tr>\n",
              "      <th>933497</th>\n",
              "      <td>2021-01-15</td>\n",
              "      <td>Weston</td>\n",
              "      <td>Wyoming</td>\n",
              "      <td>56045.0</td>\n",
              "      <td>602</td>\n",
              "      <td>4.0</td>\n",
              "    </tr>\n",
              "  </tbody>\n",
              "</table>\n",
              "<p>933498 rows × 6 columns</p>\n",
              "</div>"
            ],
            "text/plain": [
              "              date      county       state     fips  cases  deaths\n",
              "0       2020-01-21   Snohomish  Washington  53061.0      1     0.0\n",
              "1       2020-01-22   Snohomish  Washington  53061.0      1     0.0\n",
              "2       2020-01-23   Snohomish  Washington  53061.0      1     0.0\n",
              "3       2020-01-24        Cook    Illinois  17031.0      1     0.0\n",
              "4       2020-01-24   Snohomish  Washington  53061.0      1     0.0\n",
              "...            ...         ...         ...      ...    ...     ...\n",
              "933493  2021-01-15  Sweetwater     Wyoming  56037.0   3262    26.0\n",
              "933494  2021-01-15       Teton     Wyoming  56039.0   2605     4.0\n",
              "933495  2021-01-15       Uinta     Wyoming  56041.0   1806     9.0\n",
              "933496  2021-01-15    Washakie     Wyoming  56043.0    839    23.0\n",
              "933497  2021-01-15      Weston     Wyoming  56045.0    602     4.0\n",
              "\n",
              "[933498 rows x 6 columns]"
            ]
          },
          "metadata": {
            "tags": []
          },
          "execution_count": 42
        }
      ]
    },
    {
      "cell_type": "markdown",
      "metadata": {
        "id": "SMS0TV5GNEBD"
      },
      "source": [
        "**Data Collection:** After importing the data, I used the groupby function to look up the max amount of COVID cases by state."
      ]
    },
    {
      "cell_type": "code",
      "metadata": {
        "colab": {
          "base_uri": "https://localhost:8080/",
          "height": 1000
        },
        "id": "rMjzrZHt2thm",
        "outputId": "67b86d7d-a169-47b8-e5ff-c08b30c18979"
      },
      "source": [
        "import pandas as pd\r\n",
        "import numpy as np \r\n",
        "df = pd.read_csv('https://raw.githubusercontent.com/nytimes/covid-19-data/master/us-counties.csv')\r\n",
        "#used the groupby function to look up COVID case and death sum by state for assessment.\r\n",
        "df.groupby(['state']).max()"
      ],
      "execution_count": 37,
      "outputs": [
        {
          "output_type": "execute_result",
          "data": {
            "text/html": [
              "<div>\n",
              "<style scoped>\n",
              "    .dataframe tbody tr th:only-of-type {\n",
              "        vertical-align: middle;\n",
              "    }\n",
              "\n",
              "    .dataframe tbody tr th {\n",
              "        vertical-align: top;\n",
              "    }\n",
              "\n",
              "    .dataframe thead th {\n",
              "        text-align: right;\n",
              "    }\n",
              "</style>\n",
              "<table border=\"1\" class=\"dataframe\">\n",
              "  <thead>\n",
              "    <tr style=\"text-align: right;\">\n",
              "      <th></th>\n",
              "      <th>date</th>\n",
              "      <th>county</th>\n",
              "      <th>fips</th>\n",
              "      <th>cases</th>\n",
              "      <th>deaths</th>\n",
              "    </tr>\n",
              "    <tr>\n",
              "      <th>state</th>\n",
              "      <th></th>\n",
              "      <th></th>\n",
              "      <th></th>\n",
              "      <th></th>\n",
              "      <th></th>\n",
              "    </tr>\n",
              "  </thead>\n",
              "  <tbody>\n",
              "    <tr>\n",
              "      <th>Alabama</th>\n",
              "      <td>2021-01-16</td>\n",
              "      <td>Winston</td>\n",
              "      <td>1133.0</td>\n",
              "      <td>61755</td>\n",
              "      <td>921.0</td>\n",
              "    </tr>\n",
              "    <tr>\n",
              "      <th>Alaska</th>\n",
              "      <td>2021-01-16</td>\n",
              "      <td>Yukon-Koyukuk Census Area</td>\n",
              "      <td>2290.0</td>\n",
              "      <td>24467</td>\n",
              "      <td>127.0</td>\n",
              "    </tr>\n",
              "    <tr>\n",
              "      <th>Arizona</th>\n",
              "      <td>2021-01-16</td>\n",
              "      <td>Yuma</td>\n",
              "      <td>4027.0</td>\n",
              "      <td>416480</td>\n",
              "      <td>6437.0</td>\n",
              "    </tr>\n",
              "    <tr>\n",
              "      <th>Arkansas</th>\n",
              "      <td>2021-01-16</td>\n",
              "      <td>Yell</td>\n",
              "      <td>5149.0</td>\n",
              "      <td>30116</td>\n",
              "      <td>450.0</td>\n",
              "    </tr>\n",
              "    <tr>\n",
              "      <th>California</th>\n",
              "      <td>2021-01-16</td>\n",
              "      <td>Yuba</td>\n",
              "      <td>6115.0</td>\n",
              "      <td>1004322</td>\n",
              "      <td>13741.0</td>\n",
              "    </tr>\n",
              "    <tr>\n",
              "      <th>Colorado</th>\n",
              "      <td>2021-01-16</td>\n",
              "      <td>Yuma</td>\n",
              "      <td>8125.0</td>\n",
              "      <td>53158</td>\n",
              "      <td>720.0</td>\n",
              "    </tr>\n",
              "    <tr>\n",
              "      <th>Connecticut</th>\n",
              "      <td>2021-01-16</td>\n",
              "      <td>Windham</td>\n",
              "      <td>9015.0</td>\n",
              "      <td>65725</td>\n",
              "      <td>1992.0</td>\n",
              "    </tr>\n",
              "    <tr>\n",
              "      <th>Delaware</th>\n",
              "      <td>2021-01-16</td>\n",
              "      <td>Unknown</td>\n",
              "      <td>10005.0</td>\n",
              "      <td>39678</td>\n",
              "      <td>509.0</td>\n",
              "    </tr>\n",
              "    <tr>\n",
              "      <th>District of Columbia</th>\n",
              "      <td>2021-01-16</td>\n",
              "      <td>District of Columbia</td>\n",
              "      <td>11001.0</td>\n",
              "      <td>33537</td>\n",
              "      <td>847.0</td>\n",
              "    </tr>\n",
              "    <tr>\n",
              "      <th>Florida</th>\n",
              "      <td>2021-01-16</td>\n",
              "      <td>Washington</td>\n",
              "      <td>12133.0</td>\n",
              "      <td>341841</td>\n",
              "      <td>4561.0</td>\n",
              "    </tr>\n",
              "    <tr>\n",
              "      <th>Georgia</th>\n",
              "      <td>2021-01-16</td>\n",
              "      <td>Worth</td>\n",
              "      <td>13321.0</td>\n",
              "      <td>71564</td>\n",
              "      <td>867.0</td>\n",
              "    </tr>\n",
              "    <tr>\n",
              "      <th>Guam</th>\n",
              "      <td>2021-01-16</td>\n",
              "      <td>Unknown</td>\n",
              "      <td>NaN</td>\n",
              "      <td>8450</td>\n",
              "      <td>127.0</td>\n",
              "    </tr>\n",
              "    <tr>\n",
              "      <th>Hawaii</th>\n",
              "      <td>2021-01-16</td>\n",
              "      <td>Unknown</td>\n",
              "      <td>15009.0</td>\n",
              "      <td>19969</td>\n",
              "      <td>251.0</td>\n",
              "    </tr>\n",
              "    <tr>\n",
              "      <th>Idaho</th>\n",
              "      <td>2021-01-16</td>\n",
              "      <td>Washington</td>\n",
              "      <td>16087.0</td>\n",
              "      <td>42377</td>\n",
              "      <td>387.0</td>\n",
              "    </tr>\n",
              "    <tr>\n",
              "      <th>Illinois</th>\n",
              "      <td>2021-01-16</td>\n",
              "      <td>Woodford</td>\n",
              "      <td>17203.0</td>\n",
              "      <td>431385</td>\n",
              "      <td>8980.0</td>\n",
              "    </tr>\n",
              "    <tr>\n",
              "      <th>Indiana</th>\n",
              "      <td>2021-01-16</td>\n",
              "      <td>Whitley</td>\n",
              "      <td>18183.0</td>\n",
              "      <td>81265</td>\n",
              "      <td>1359.0</td>\n",
              "    </tr>\n",
              "    <tr>\n",
              "      <th>Iowa</th>\n",
              "      <td>2021-01-16</td>\n",
              "      <td>Wright</td>\n",
              "      <td>19197.0</td>\n",
              "      <td>45335</td>\n",
              "      <td>447.0</td>\n",
              "    </tr>\n",
              "    <tr>\n",
              "      <th>Kansas</th>\n",
              "      <td>2021-01-16</td>\n",
              "      <td>Wyandotte</td>\n",
              "      <td>20209.0</td>\n",
              "      <td>46446</td>\n",
              "      <td>720.0</td>\n",
              "    </tr>\n",
              "    <tr>\n",
              "      <th>Kentucky</th>\n",
              "      <td>2021-01-16</td>\n",
              "      <td>Woodford</td>\n",
              "      <td>21239.0</td>\n",
              "      <td>61065</td>\n",
              "      <td>745.0</td>\n",
              "    </tr>\n",
              "    <tr>\n",
              "      <th>Louisiana</th>\n",
              "      <td>2021-01-16</td>\n",
              "      <td>Winn</td>\n",
              "      <td>22127.0</td>\n",
              "      <td>37200</td>\n",
              "      <td>715.0</td>\n",
              "    </tr>\n",
              "    <tr>\n",
              "      <th>Maine</th>\n",
              "      <td>2021-01-16</td>\n",
              "      <td>York</td>\n",
              "      <td>23031.0</td>\n",
              "      <td>9735</td>\n",
              "      <td>124.0</td>\n",
              "    </tr>\n",
              "    <tr>\n",
              "      <th>Maryland</th>\n",
              "      <td>2021-01-16</td>\n",
              "      <td>Worcester</td>\n",
              "      <td>24510.0</td>\n",
              "      <td>62518</td>\n",
              "      <td>1221.0</td>\n",
              "    </tr>\n",
              "    <tr>\n",
              "      <th>Massachusetts</th>\n",
              "      <td>2021-01-16</td>\n",
              "      <td>Worcester</td>\n",
              "      <td>25027.0</td>\n",
              "      <td>91946</td>\n",
              "      <td>2939.0</td>\n",
              "    </tr>\n",
              "    <tr>\n",
              "      <th>Michigan</th>\n",
              "      <td>2021-01-16</td>\n",
              "      <td>Wexford</td>\n",
              "      <td>26165.0</td>\n",
              "      <td>92476</td>\n",
              "      <td>3856.0</td>\n",
              "    </tr>\n",
              "    <tr>\n",
              "      <th>Minnesota</th>\n",
              "      <td>2021-01-16</td>\n",
              "      <td>Yellow Medicine</td>\n",
              "      <td>27173.0</td>\n",
              "      <td>92491</td>\n",
              "      <td>1470.0</td>\n",
              "    </tr>\n",
              "    <tr>\n",
              "      <th>Mississippi</th>\n",
              "      <td>2021-01-16</td>\n",
              "      <td>Yazoo</td>\n",
              "      <td>28163.0</td>\n",
              "      <td>17010</td>\n",
              "      <td>318.0</td>\n",
              "    </tr>\n",
              "    <tr>\n",
              "      <th>Missouri</th>\n",
              "      <td>2021-01-16</td>\n",
              "      <td>Wright</td>\n",
              "      <td>29510.0</td>\n",
              "      <td>78024</td>\n",
              "      <td>1563.0</td>\n",
              "    </tr>\n",
              "    <tr>\n",
              "      <th>Montana</th>\n",
              "      <td>2021-01-16</td>\n",
              "      <td>Yellowstone</td>\n",
              "      <td>30111.0</td>\n",
              "      <td>14699</td>\n",
              "      <td>173.0</td>\n",
              "    </tr>\n",
              "    <tr>\n",
              "      <th>Nebraska</th>\n",
              "      <td>2021-01-16</td>\n",
              "      <td>York</td>\n",
              "      <td>31185.0</td>\n",
              "      <td>58043</td>\n",
              "      <td>617.0</td>\n",
              "    </tr>\n",
              "    <tr>\n",
              "      <th>Nevada</th>\n",
              "      <td>2021-01-16</td>\n",
              "      <td>White Pine</td>\n",
              "      <td>32510.0</td>\n",
              "      <td>199260</td>\n",
              "      <td>2852.0</td>\n",
              "    </tr>\n",
              "    <tr>\n",
              "      <th>New Hampshire</th>\n",
              "      <td>2021-01-16</td>\n",
              "      <td>Unknown</td>\n",
              "      <td>33019.0</td>\n",
              "      <td>22132</td>\n",
              "      <td>501.0</td>\n",
              "    </tr>\n",
              "    <tr>\n",
              "      <th>New Jersey</th>\n",
              "      <td>2021-01-16</td>\n",
              "      <td>Warren</td>\n",
              "      <td>34041.0</td>\n",
              "      <td>60224</td>\n",
              "      <td>2476.0</td>\n",
              "    </tr>\n",
              "    <tr>\n",
              "      <th>New Mexico</th>\n",
              "      <td>2021-01-16</td>\n",
              "      <td>Valencia</td>\n",
              "      <td>35061.0</td>\n",
              "      <td>46179</td>\n",
              "      <td>686.0</td>\n",
              "    </tr>\n",
              "    <tr>\n",
              "      <th>New York</th>\n",
              "      <td>2021-01-16</td>\n",
              "      <td>Yates</td>\n",
              "      <td>36123.0</td>\n",
              "      <td>524231</td>\n",
              "      <td>25970.0</td>\n",
              "    </tr>\n",
              "    <tr>\n",
              "      <th>North Carolina</th>\n",
              "      <td>2021-01-16</td>\n",
              "      <td>Yancey</td>\n",
              "      <td>37199.0</td>\n",
              "      <td>76542</td>\n",
              "      <td>683.0</td>\n",
              "    </tr>\n",
              "    <tr>\n",
              "      <th>North Dakota</th>\n",
              "      <td>2021-01-16</td>\n",
              "      <td>Williams</td>\n",
              "      <td>38105.0</td>\n",
              "      <td>20593</td>\n",
              "      <td>184.0</td>\n",
              "    </tr>\n",
              "    <tr>\n",
              "      <th>Northern Mariana Islands</th>\n",
              "      <td>2021-01-16</td>\n",
              "      <td>Unknown</td>\n",
              "      <td>69120.0</td>\n",
              "      <td>126</td>\n",
              "      <td>2.0</td>\n",
              "    </tr>\n",
              "    <tr>\n",
              "      <th>Ohio</th>\n",
              "      <td>2021-01-16</td>\n",
              "      <td>Wyandot</td>\n",
              "      <td>39175.0</td>\n",
              "      <td>96935</td>\n",
              "      <td>972.0</td>\n",
              "    </tr>\n",
              "    <tr>\n",
              "      <th>Oklahoma</th>\n",
              "      <td>2021-01-16</td>\n",
              "      <td>Woodward</td>\n",
              "      <td>40153.0</td>\n",
              "      <td>68372</td>\n",
              "      <td>495.0</td>\n",
              "    </tr>\n",
              "    <tr>\n",
              "      <th>Oregon</th>\n",
              "      <td>2021-01-16</td>\n",
              "      <td>Yamhill</td>\n",
              "      <td>41071.0</td>\n",
              "      <td>28237</td>\n",
              "      <td>458.0</td>\n",
              "    </tr>\n",
              "    <tr>\n",
              "      <th>Pennsylvania</th>\n",
              "      <td>2021-01-16</td>\n",
              "      <td>York</td>\n",
              "      <td>42133.0</td>\n",
              "      <td>102837</td>\n",
              "      <td>2723.0</td>\n",
              "    </tr>\n",
              "    <tr>\n",
              "      <th>Puerto Rico</th>\n",
              "      <td>2021-01-16</td>\n",
              "      <td>Yauco</td>\n",
              "      <td>72153.0</td>\n",
              "      <td>16482</td>\n",
              "      <td>1703.0</td>\n",
              "    </tr>\n",
              "    <tr>\n",
              "      <th>Rhode Island</th>\n",
              "      <td>2021-01-16</td>\n",
              "      <td>Washington</td>\n",
              "      <td>44009.0</td>\n",
              "      <td>67526</td>\n",
              "      <td>1479.0</td>\n",
              "    </tr>\n",
              "    <tr>\n",
              "      <th>South Carolina</th>\n",
              "      <td>2021-01-16</td>\n",
              "      <td>York</td>\n",
              "      <td>45091.0</td>\n",
              "      <td>48365</td>\n",
              "      <td>611.0</td>\n",
              "    </tr>\n",
              "    <tr>\n",
              "      <th>South Dakota</th>\n",
              "      <td>2021-01-16</td>\n",
              "      <td>Ziebach</td>\n",
              "      <td>46137.0</td>\n",
              "      <td>26339</td>\n",
              "      <td>293.0</td>\n",
              "    </tr>\n",
              "    <tr>\n",
              "      <th>Tennessee</th>\n",
              "      <td>2021-01-16</td>\n",
              "      <td>Wilson</td>\n",
              "      <td>47189.0</td>\n",
              "      <td>78976</td>\n",
              "      <td>1115.0</td>\n",
              "    </tr>\n",
              "    <tr>\n",
              "      <th>Texas</th>\n",
              "      <td>2021-01-16</td>\n",
              "      <td>Zavala</td>\n",
              "      <td>48507.0</td>\n",
              "      <td>281422</td>\n",
              "      <td>3777.0</td>\n",
              "    </tr>\n",
              "    <tr>\n",
              "      <th>Utah</th>\n",
              "      <td>2021-01-16</td>\n",
              "      <td>Weber</td>\n",
              "      <td>49057.0</td>\n",
              "      <td>121741</td>\n",
              "      <td>624.0</td>\n",
              "    </tr>\n",
              "    <tr>\n",
              "      <th>Vermont</th>\n",
              "      <td>2021-01-16</td>\n",
              "      <td>Windsor</td>\n",
              "      <td>50027.0</td>\n",
              "      <td>3483</td>\n",
              "      <td>78.0</td>\n",
              "    </tr>\n",
              "    <tr>\n",
              "      <th>Virgin Islands</th>\n",
              "      <td>2021-01-16</td>\n",
              "      <td>Unknown</td>\n",
              "      <td>78030.0</td>\n",
              "      <td>1096</td>\n",
              "      <td>15.0</td>\n",
              "    </tr>\n",
              "    <tr>\n",
              "      <th>Virginia</th>\n",
              "      <td>2021-01-16</td>\n",
              "      <td>York</td>\n",
              "      <td>51840.0</td>\n",
              "      <td>52491</td>\n",
              "      <td>732.0</td>\n",
              "    </tr>\n",
              "    <tr>\n",
              "      <th>Washington</th>\n",
              "      <td>2021-01-16</td>\n",
              "      <td>Yakima</td>\n",
              "      <td>53077.0</td>\n",
              "      <td>72255</td>\n",
              "      <td>1154.0</td>\n",
              "    </tr>\n",
              "    <tr>\n",
              "      <th>West Virginia</th>\n",
              "      <td>2021-01-16</td>\n",
              "      <td>Wyoming</td>\n",
              "      <td>54109.0</td>\n",
              "      <td>10176</td>\n",
              "      <td>240.0</td>\n",
              "    </tr>\n",
              "    <tr>\n",
              "      <th>Wisconsin</th>\n",
              "      <td>2021-01-16</td>\n",
              "      <td>Wood</td>\n",
              "      <td>55141.0</td>\n",
              "      <td>99152</td>\n",
              "      <td>1103.0</td>\n",
              "    </tr>\n",
              "    <tr>\n",
              "      <th>Wyoming</th>\n",
              "      <td>2021-01-16</td>\n",
              "      <td>Weston</td>\n",
              "      <td>56045.0</td>\n",
              "      <td>7728</td>\n",
              "      <td>103.0</td>\n",
              "    </tr>\n",
              "  </tbody>\n",
              "</table>\n",
              "</div>"
            ],
            "text/plain": [
              "                                date  ...   deaths\n",
              "state                                 ...         \n",
              "Alabama                   2021-01-16  ...    921.0\n",
              "Alaska                    2021-01-16  ...    127.0\n",
              "Arizona                   2021-01-16  ...   6437.0\n",
              "Arkansas                  2021-01-16  ...    450.0\n",
              "California                2021-01-16  ...  13741.0\n",
              "Colorado                  2021-01-16  ...    720.0\n",
              "Connecticut               2021-01-16  ...   1992.0\n",
              "Delaware                  2021-01-16  ...    509.0\n",
              "District of Columbia      2021-01-16  ...    847.0\n",
              "Florida                   2021-01-16  ...   4561.0\n",
              "Georgia                   2021-01-16  ...    867.0\n",
              "Guam                      2021-01-16  ...    127.0\n",
              "Hawaii                    2021-01-16  ...    251.0\n",
              "Idaho                     2021-01-16  ...    387.0\n",
              "Illinois                  2021-01-16  ...   8980.0\n",
              "Indiana                   2021-01-16  ...   1359.0\n",
              "Iowa                      2021-01-16  ...    447.0\n",
              "Kansas                    2021-01-16  ...    720.0\n",
              "Kentucky                  2021-01-16  ...    745.0\n",
              "Louisiana                 2021-01-16  ...    715.0\n",
              "Maine                     2021-01-16  ...    124.0\n",
              "Maryland                  2021-01-16  ...   1221.0\n",
              "Massachusetts             2021-01-16  ...   2939.0\n",
              "Michigan                  2021-01-16  ...   3856.0\n",
              "Minnesota                 2021-01-16  ...   1470.0\n",
              "Mississippi               2021-01-16  ...    318.0\n",
              "Missouri                  2021-01-16  ...   1563.0\n",
              "Montana                   2021-01-16  ...    173.0\n",
              "Nebraska                  2021-01-16  ...    617.0\n",
              "Nevada                    2021-01-16  ...   2852.0\n",
              "New Hampshire             2021-01-16  ...    501.0\n",
              "New Jersey                2021-01-16  ...   2476.0\n",
              "New Mexico                2021-01-16  ...    686.0\n",
              "New York                  2021-01-16  ...  25970.0\n",
              "North Carolina            2021-01-16  ...    683.0\n",
              "North Dakota              2021-01-16  ...    184.0\n",
              "Northern Mariana Islands  2021-01-16  ...      2.0\n",
              "Ohio                      2021-01-16  ...    972.0\n",
              "Oklahoma                  2021-01-16  ...    495.0\n",
              "Oregon                    2021-01-16  ...    458.0\n",
              "Pennsylvania              2021-01-16  ...   2723.0\n",
              "Puerto Rico               2021-01-16  ...   1703.0\n",
              "Rhode Island              2021-01-16  ...   1479.0\n",
              "South Carolina            2021-01-16  ...    611.0\n",
              "South Dakota              2021-01-16  ...    293.0\n",
              "Tennessee                 2021-01-16  ...   1115.0\n",
              "Texas                     2021-01-16  ...   3777.0\n",
              "Utah                      2021-01-16  ...    624.0\n",
              "Vermont                   2021-01-16  ...     78.0\n",
              "Virgin Islands            2021-01-16  ...     15.0\n",
              "Virginia                  2021-01-16  ...    732.0\n",
              "Washington                2021-01-16  ...   1154.0\n",
              "West Virginia             2021-01-16  ...    240.0\n",
              "Wisconsin                 2021-01-16  ...   1103.0\n",
              "Wyoming                   2021-01-16  ...    103.0\n",
              "\n",
              "[55 rows x 5 columns]"
            ]
          },
          "metadata": {
            "tags": []
          },
          "execution_count": 37
        }
      ]
    },
    {
      "cell_type": "markdown",
      "metadata": {
        "id": "X-mfvn2Vp0wl"
      },
      "source": [
        "**Data Wrangling:** After reviewing states, I selected Bergen, New Jersey and started wrangling the data and then cross checking via three different functions in order to validate data accuracy.\r\n",
        " "
      ]
    },
    {
      "cell_type": "code",
      "metadata": {
        "colab": {
          "base_uri": "https://localhost:8080/"
        },
        "id": "6odCGgvzzn4P",
        "outputId": "31fc990c-ba90-4bf2-ca0a-66dd5ca32e45"
      },
      "source": [
        "import pandas as pd\r\n",
        "import numpy as np \r\n",
        "df = pd.read_csv('https://raw.githubusercontent.com/nytimes/covid-19-data/master/us-counties.csv')\r\n",
        "\r\n",
        "#dropped fips as it wasn't needed\r\n",
        "drop_cols = ['fips']\r\n",
        "df.drop(drop_cols, inplace =True, axis =1)\r\n",
        "\r\n",
        "#created a variable for Bergen \r\n",
        "state_df = df[(df['county']=='Bergen')]\r\n",
        "\r\n",
        "#grouped by New Jersey, Bergen county,date, and sum to assess data.\r\n",
        "state_df.groupby(['state','county','date']).sum()\r\n",
        "\r\n",
        "#used the string function to double check data via a different method.\r\n",
        "state_df = df[(df['county']=='Bergen')]\r\n",
        "df[df['state'].str.contains('New Jersey')]\r\n",
        "\r\n",
        "#also pulled up the data via the query function and the most recent data reflects.\r\n",
        "df.query('county== \"Bergen\"').max()"
      ],
      "execution_count": 83,
      "outputs": [
        {
          "output_type": "execute_result",
          "data": {
            "text/plain": [
              "date      2021-01-16\n",
              "county        Bergen\n",
              "state     New Jersey\n",
              "cases          60224\n",
              "deaths          2409\n",
              "dtype: object"
            ]
          },
          "metadata": {
            "tags": []
          },
          "execution_count": 83
        }
      ]
    },
    {
      "cell_type": "markdown",
      "metadata": {
        "id": "MJfVgb7yx64N"
      },
      "source": [
        "**Visual #1:** Bergen County Plot Graph"
      ]
    },
    {
      "cell_type": "code",
      "metadata": {
        "colab": {
          "base_uri": "https://localhost:8080/",
          "height": 282
        },
        "id": "LWyiLk0tZCxT",
        "outputId": "d847131c-5bc2-4a57-9c85-0174c5bad7ee"
      },
      "source": [
        "import numpy as np\r\n",
        "import pandas as pd\r\n",
        "df= pd.read_csv('https://raw.githubusercontent.com/nytimes/covid-19-data/master/us-counties.csv')\r\n",
        "drop_cols = ['fips']\r\n",
        "df.drop(drop_cols, inplace =True, axis =1)\r\n",
        "state_df = df[(df['county']=='Bergen')]\r\n",
        "\r\n",
        "state_df.plot()"
      ],
      "execution_count": 104,
      "outputs": [
        {
          "output_type": "execute_result",
          "data": {
            "text/plain": [
              "<matplotlib.axes._subplots.AxesSubplot at 0x7f32d687ca20>"
            ]
          },
          "metadata": {
            "tags": []
          },
          "execution_count": 104
        },
        {
          "output_type": "display_data",
          "data": {
            "image/png": "[encoded data removed]",
            "text/plain": [
              "<Figure size 432x288 with 1 Axes>"
            ]
          },
          "metadata": {
            "tags": [],
            "needs_background": "light"
          }
        }
      ]
    },
    {
      "cell_type": "markdown",
      "metadata": {
        "id": "7KHngnOGpnqY"
      },
      "source": [
        "**Visual #2:** Bergen County Scatter Plot"
      ]
    },
    {
      "cell_type": "code",
      "metadata": {
        "colab": {
          "base_uri": "https://localhost:8080/",
          "height": 298
        },
        "id": "1GGW5YEqnY2K",
        "outputId": "0dd3776a-1fe4-4199-d3bd-430b95e55aab"
      },
      "source": [
        "import numpy as np\r\n",
        "import pandas as pd\r\n",
        "df= pd.read_csv('https://raw.githubusercontent.com/nytimes/covid-19-data/master/us-counties.csv')\r\n",
        "drop_cols = ['fips']\r\n",
        "df.drop(drop_cols, inplace =True, axis =1)\r\n",
        "\r\n",
        "state_df = df[(df['county']=='Bergen')]\r\n",
        "state_df.plot(kind = 'scatter', x = 'cases', y = 'deaths')"
      ],
      "execution_count": 103,
      "outputs": [
        {
          "output_type": "execute_result",
          "data": {
            "text/plain": [
              "<matplotlib.axes._subplots.AxesSubplot at 0x7f32d6889ef0>"
            ]
          },
          "metadata": {
            "tags": []
          },
          "execution_count": 103
        },
        {
          "output_type": "display_data",
          "data": {
            "image/png": "[encoded data removed]",
            "text/plain": [
              "<Figure size 432x288 with 1 Axes>"
            ]
          },
          "metadata": {
            "tags": [],
            "needs_background": "light"
          }
        }
      ]
    },
    {
      "cell_type": "markdown",
      "metadata": {
        "id": "zM6grB847A_Z"
      },
      "source": [
        "**Comparative Analysis:** As of Jan 16, 2021, the data shows that Bergen county has a 4% death rate for its COVID population. While Passaic county has a 3.2% death rate for its COVID population. Data shows that Passaic's death ratio is very high in comparison, especially when you factor in that its almost half the population of Bergen county. Passaic county is more urbanized than Bergen county, is there a correlation to the higher death ratio? A deeper dive with more data would be required. "
      ]
    },
    {
      "cell_type": "markdown",
      "metadata": {
        "id": "kPyltHHyXAsS"
      },
      "source": [
        "**Comparative Bergen County Data**"
      ]
    },
    {
      "cell_type": "code",
      "metadata": {
        "colab": {
          "base_uri": "https://localhost:8080/"
        },
        "id": "yIrcB-7fA6Zo",
        "outputId": "fa78f1a2-ecdf-40fe-ad53-55092b869895"
      },
      "source": [
        "drop_cols = ['fips']\r\n",
        "df.query('county== \"Bergen\"').max()"
      ],
      "execution_count": 172,
      "outputs": [
        {
          "output_type": "execute_result",
          "data": {
            "text/plain": [
              "date      2021-01-16\n",
              "county        Bergen\n",
              "state     New Jersey\n",
              "fips           34003\n",
              "cases          60224\n",
              "deaths          2409\n",
              "dtype: object"
            ]
          },
          "metadata": {
            "tags": []
          },
          "execution_count": 172
        }
      ]
    },
    {
      "cell_type": "markdown",
      "metadata": {
        "id": "k5gfbtZNb4bn"
      },
      "source": [
        "**Comparative Visual #1:** The Bergen County plot graph shows the death rate has tapered off. "
      ]
    },
    {
      "cell_type": "code",
      "metadata": {
        "colab": {
          "base_uri": "https://localhost:8080/",
          "height": 296
        },
        "id": "aqKvFchwboJR",
        "outputId": "3ca28b9d-0bd3-44ce-f475-96127b085870"
      },
      "source": [
        "import numpy as np\r\n",
        "import pandas as pd\r\n",
        "df= pd.read_csv('https://raw.githubusercontent.com/nytimes/covid-19-data/master/us-counties.csv')\r\n",
        "state_df = df[(df['county']=='Bergen')]\r\n",
        "sns.barplot(x='deaths', y='cases',data =state_df)"
      ],
      "execution_count": 173,
      "outputs": [
        {
          "output_type": "execute_result",
          "data": {
            "text/plain": [
              "<matplotlib.axes._subplots.AxesSubplot at 0x7fdb49050400>"
            ]
          },
          "metadata": {
            "tags": []
          },
          "execution_count": 173
        },
        {
          "output_type": "display_data",
          "data": {
            "image/png": "[encoded data removed]",
            "text/plain": [
              "<Figure size 432x288 with 1 Axes>"
            ]
          },
          "metadata": {
            "tags": [],
            "needs_background": "light"
          }
        }
      ]
    },
    {
      "cell_type": "markdown",
      "metadata": {
        "id": "Es4TwifMXVfv"
      },
      "source": [
        "**Comparative Passaic County Data**"
      ]
    },
    {
      "cell_type": "code",
      "metadata": {
        "colab": {
          "base_uri": "https://localhost:8080/"
        },
        "id": "WbTK6E6kA3kK",
        "outputId": "09ee37cf-85a0-4779-e9ea-82317237b786"
      },
      "source": [
        "drop_cols = ['fips']\r\n",
        "df.query('county== \"Passaic\"').max()"
      ],
      "execution_count": 146,
      "outputs": [
        {
          "output_type": "execute_result",
          "data": {
            "text/plain": [
              "date      2021-01-16\n",
              "county       Passaic\n",
              "state     New Jersey\n",
              "cases          47429\n",
              "deaths          1541\n",
              "dtype: object"
            ]
          },
          "metadata": {
            "tags": []
          },
          "execution_count": 146
        }
      ]
    },
    {
      "cell_type": "markdown",
      "metadata": {
        "id": "LMwmHwFCbOlG"
      },
      "source": [
        "**Comparative Visual #2:** The Passaic County plot graph below shows that the death rate has been consistent and is still active.\r\n",
        "\r\n",
        "\r\n"
      ]
    },
    {
      "cell_type": "code",
      "metadata": {
        "colab": {
          "base_uri": "https://localhost:8080/",
          "height": 296
        },
        "id": "-TEkLiOgbX-h",
        "outputId": "0c60dc9d-262e-4f3e-b640-ce3ec099ec5d"
      },
      "source": [
        "import numpy as np\r\n",
        "import pandas as pd\r\n",
        "df= pd.read_csv('https://raw.githubusercontent.com/nytimes/covid-19-data/master/us-counties.csv')\r\n",
        "state_df = df[(df['county']=='Passaic')]\r\n",
        "sns.barplot(x='deaths', y='cases',data =state_df)"
      ],
      "execution_count": 171,
      "outputs": [
        {
          "output_type": "execute_result",
          "data": {
            "text/plain": [
              "<matplotlib.axes._subplots.AxesSubplot at 0x7fdb497414a8>"
            ]
          },
          "metadata": {
            "tags": []
          },
          "execution_count": 171
        },
        {
          "output_type": "display_data",
          "data": {
            "image/png": "[encoded data removed]",
            "text/plain": [
              "<Figure size 432x288 with 1 Axes>"
            ]
          },
          "metadata": {
            "tags": [],
            "needs_background": "light"
          }
        }
      ]
    }
  ]
}